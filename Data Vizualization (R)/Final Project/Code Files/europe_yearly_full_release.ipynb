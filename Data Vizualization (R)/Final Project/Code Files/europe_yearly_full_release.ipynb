{
 "cells": [
  {
   "cell_type": "code",
   "execution_count": 31,
   "id": "0216cea9",
   "metadata": {},
   "outputs": [],
   "source": [
    "import pandas as pd"
   ]
  },
  {
   "cell_type": "code",
   "execution_count": 61,
   "id": "715c242e",
   "metadata": {},
   "outputs": [],
   "source": [
    "europe_yearly_full_release = pd.read_csv('C:/Users/Tamás/Desktop/ESMT/FirstSem/DataVisualization/GroupProject/europe_yearly_full_release_long_format.csv')"
   ]
  },
  {
   "cell_type": "code",
   "execution_count": null,
   "id": "cbebe2e9",
   "metadata": {},
   "outputs": [],
   "source": [
    "europe_yearly_full_release.info()"
   ]
  },
  {
   "cell_type": "code",
   "execution_count": 62,
   "id": "feca34d8",
   "metadata": {},
   "outputs": [],
   "source": [
    "europe_yearly_full_release_copy = europe_yearly_full_release.copy()"
   ]
  },
  {
   "cell_type": "code",
   "execution_count": 34,
   "id": "dff474d2",
   "metadata": {},
   "outputs": [
    {
     "data": {
      "text/plain": [
       "38"
      ]
     },
     "execution_count": 34,
     "metadata": {},
     "output_type": "execute_result"
    }
   ],
   "source": [
    "europe_yearly_full_release_copy['Area'].nunique()"
   ]
  },
  {
   "cell_type": "markdown",
   "id": "0234b503",
   "metadata": {},
   "source": [
    "RESHAPE THE DATASET"
   ]
  },
  {
   "cell_type": "code",
   "execution_count": 35,
   "id": "71be4038",
   "metadata": {},
   "outputs": [],
   "source": [
    "# Define the columns that should appear only once (index columns)\n",
    "columns_to_once = ['Area', 'ISO 3 code', 'Year', 'Area type', 'Continent', 'Ember region', 'EU', 'OECD', 'G20', 'G7', 'ASEAN']"
   ]
  },
  {
   "cell_type": "code",
   "execution_count": 36,
   "id": "3f9dc0d4",
   "metadata": {},
   "outputs": [],
   "source": [
    "# Create a unique identifier for each combination of Category, Subcategory, Variable, and Unit\n",
    "europe_yearly_full_release_copy['Variable_ID'] = europe_yearly_full_release_copy.apply(\n",
    "    lambda x: f\"{x['Category']}_{x['Subcategory']}_{x['Variable']}_{x['Unit']}\", \n",
    "    axis=1\n",
    ")"
   ]
  },
  {
   "cell_type": "code",
   "execution_count": 37,
   "id": "4275f50b",
   "metadata": {},
   "outputs": [],
   "source": [
    "# Pivot the DataFrame\n",
    "europe_yearly_full_release_reshaped = europe_yearly_full_release_copy.pivot_table(\n",
    "    index = columns_to_once,\n",
    "    columns = 'Variable_ID',\n",
    "    values = 'Value',\n",
    "    aggfunc = 'first'\n",
    ").reset_index()"
   ]
  },
  {
   "cell_type": "code",
   "execution_count": 38,
   "id": "a10f3065",
   "metadata": {},
   "outputs": [],
   "source": [
    "# Reset column names from MultiIndex to single level\n",
    "europe_yearly_full_release_reshaped.columns.name = None"
   ]
  },
  {
   "cell_type": "code",
   "execution_count": null,
   "id": "eaa3d97f",
   "metadata": {},
   "outputs": [],
   "source": [
    "europe_yearly_full_release_reshaped.info()"
   ]
  },
  {
   "cell_type": "code",
   "execution_count": 20,
   "id": "fe2e8185",
   "metadata": {},
   "outputs": [],
   "source": [
    "europe_yearly_full_release_reshaped.to_csv('C:/Users/Tamás/Desktop/ESMT/FirstSem/DataVisualization/GroupProject/europe_yearly_full_release_wide_format.csv', index=False)"
   ]
  },
  {
   "cell_type": "markdown",
   "id": "d57d28fd",
   "metadata": {},
   "source": [
    "NEW TRY"
   ]
  },
  {
   "cell_type": "code",
   "execution_count": 95,
   "id": "6551c8e5",
   "metadata": {},
   "outputs": [],
   "source": [
    "europe_yearly_full_release_copy_2 = europe_yearly_full_release_copy.copy()"
   ]
  },
  {
   "cell_type": "code",
   "execution_count": 96,
   "id": "eb7d3165",
   "metadata": {},
   "outputs": [],
   "source": [
    "# Define the columns that should appear only once (index columns)\n",
    "index_cols = ['Area', 'ISO 3 code', 'Year', 'Area type', 'Continent', 'Ember region', \n",
    "              'EU', 'OECD', 'G20', 'G7', 'ASEAN']\n",
    "\n",
    "# Create row identifier within each year and area\n",
    "europe_yearly_full_release_copy_2['row_id'] = europe_yearly_full_release_copy_2.groupby(['Year', 'Area']).cumcount() + 1\n",
    "\n",
    "\n",
    "# Create wide format with suffix for each column\n",
    "europe_yearly_full_release_reshaped_2 = europe_yearly_full_release_copy_2.pivot(\n",
    "    index=index_cols,\n",
    "    columns='row_id',\n",
    "    values=['Category', 'Subcategory', 'Variable', 'Unit', 'Value']\n",
    ").reset_index()\n",
    "\n",
    "# Reset index\n",
    "# Flatten the column names\n",
    "europe_yearly_full_release_reshaped_2.columns = [\n",
    "    f'{col[0]}_{col[1]}' if isinstance(col, tuple) else col \n",
    "    for col in europe_yearly_full_release_reshaped_2.columns\n",
    "]\n",
    "\n",
    "# Reset index\n",
    "europe_yearly_full_release_reshaped_2.reset_index(drop=True, inplace=True)"
   ]
  },
  {
   "cell_type": "code",
   "execution_count": null,
   "id": "08db9e26",
   "metadata": {},
   "outputs": [],
   "source": [
    "import re\n",
    "\n",
    "index_cols = ['Area', 'ISO 3 code', 'Year', 'Area type', 'Continent', 'Ember region', 'EU', 'OECD', 'G20', 'G7', 'ASEAN']\n",
    "\n",
    "cols = europe_yearly_full_release_reshaped_2.columns.tolist()\n",
    "index_cols_present = [c for c in index_cols if c in cols]\n",
    "\n",
    "# How many Category_x columns are there\n",
    "pat = re.compile(r'^Category_(\\d+)$')\n",
    "nums = sorted({int(m.group(1)) for c in cols for m in [pat.match(c)] if m})\n",
    "max_n = max(nums) if nums else 0\n",
    "\n",
    "# Build the desired column order\n",
    "ordered = index_cols_present.copy()\n",
    "for n in range(1, max_n + 1):\n",
    "    for base in ['Category', 'Subcategory', 'Variable', 'Unit', 'Value']:\n",
    "        cname = f'{base}_{n}'\n",
    "        if cname in cols:\n",
    "            ordered.append(cname)\n",
    "\n",
    "# If there are any columns not in ordered, append them at the end\n",
    "remaining = [c for c in cols if c not in ordered]\n",
    "ordered += remaining\n",
    "\n",
    "# Reorder the DataFrame columns\n",
    "europe_yearly_full_release_reshaped_2 = europe_yearly_full_release_reshaped_2[ordered]"
   ]
  },
  {
   "cell_type": "code",
   "execution_count": 98,
   "id": "c1de8b0e",
   "metadata": {},
   "outputs": [
    {
     "name": "stdout",
     "output_type": "stream",
     "text": [
      "<class 'pandas.core.frame.DataFrame'>\n",
      "RangeIndex: 1285 entries, 0 to 1284\n",
      "Columns: 306 entries, Category_1 to ASEAN_\n",
      "dtypes: float64(5), int64(1), object(300)\n",
      "memory usage: 3.0+ MB\n"
     ]
    }
   ],
   "source": [
    "europe_yearly_full_release_reshaped_2.info()"
   ]
  },
  {
   "cell_type": "code",
   "execution_count": 101,
   "id": "07c9d280",
   "metadata": {},
   "outputs": [
    {
     "name": "stderr",
     "output_type": "stream",
     "text": [
      "C:\\Users\\Tamás\\AppData\\Local\\Temp\\ipykernel_14576\\1719143372.py:1: FutureWarning: Downcasting object dtype arrays on .fillna, .ffill, .bfill is deprecated and will change in a future version. Call result.infer_objects(copy=False) instead. To opt-in to the future behavior, set `pd.set_option('future.no_silent_downcasting', True)`\n",
      "  europe_yearly_full_release_reshaped_2.fillna(0, inplace=True)\n"
     ]
    }
   ],
   "source": [
    "europe_yearly_full_release_reshaped_2.fillna(0, inplace=True)"
   ]
  },
  {
   "cell_type": "code",
   "execution_count": 102,
   "id": "8691c359",
   "metadata": {},
   "outputs": [],
   "source": [
    "europe_yearly_full_release_reshaped_2.to_csv('C:/Users/Tamás/Desktop/ESMT/FirstSem/DataVisualization/GroupProject/europe_yearly_full_release_wide_format_reshaped_2.csv', index=False)"
   ]
  }
 ],
 "metadata": {
  "kernelspec": {
   "display_name": "Python 3",
   "language": "python",
   "name": "python3"
  },
  "language_info": {
   "codemirror_mode": {
    "name": "ipython",
    "version": 3
   },
   "file_extension": ".py",
   "mimetype": "text/x-python",
   "name": "python",
   "nbconvert_exporter": "python",
   "pygments_lexer": "ipython3",
   "version": "3.13.0"
  }
 },
 "nbformat": 4,
 "nbformat_minor": 5
}
